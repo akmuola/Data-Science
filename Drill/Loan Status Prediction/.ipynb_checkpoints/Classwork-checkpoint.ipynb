{
 "cells": [
  {
   "cell_type": "markdown",
   "id": "73f06212",
   "metadata": {},
   "source": [
    "## Classwork One Using the Classwork file for the dataframe"
   ]
  },
  {
   "cell_type": "markdown",
   "id": "d6819307",
   "metadata": {},
   "source": [
    "## Importing Library"
   ]
  },
  {
   "cell_type": "code",
   "execution_count": 4,
   "id": "d9a3c2d7",
   "metadata": {},
   "outputs": [],
   "source": [
    "#import the all necessary libraries\n"
   ]
  },
  {
   "cell_type": "markdown",
   "id": "40ea8ec2",
   "metadata": {},
   "source": [
    "## Data Collection"
   ]
  },
  {
   "cell_type": "code",
   "execution_count": 3,
   "id": "01eabb62",
   "metadata": {},
   "outputs": [],
   "source": [
    "#loading the dataset into a pandas dataframe\n"
   ]
  },
  {
   "cell_type": "code",
   "execution_count": 1,
   "id": "ca0722e0",
   "metadata": {},
   "outputs": [],
   "source": [
    "# Print the first five row of the dataset\n"
   ]
  },
  {
   "cell_type": "code",
   "execution_count": 2,
   "id": "c547c54e",
   "metadata": {},
   "outputs": [],
   "source": [
    "# Print the last five row of the dataset\n"
   ]
  },
  {
   "cell_type": "markdown",
   "id": "c1764219",
   "metadata": {},
   "source": [
    "## Exploratory Data Analysis"
   ]
  },
  {
   "cell_type": "code",
   "execution_count": 26,
   "id": "7217d586",
   "metadata": {},
   "outputs": [],
   "source": [
    "# check the dataset shape\n"
   ]
  },
  {
   "cell_type": "code",
   "execution_count": 27,
   "id": "b120c412",
   "metadata": {},
   "outputs": [],
   "source": [
    "# chech the dataset of the datatype\n"
   ]
  },
  {
   "cell_type": "code",
   "execution_count": 28,
   "id": "915fad27",
   "metadata": {},
   "outputs": [],
   "source": [
    "# statisticaly measure\n"
   ]
  },
  {
   "cell_type": "code",
   "execution_count": 29,
   "id": "e26bb661",
   "metadata": {},
   "outputs": [],
   "source": [
    "# check the number of missing value in the each columns\n"
   ]
  },
  {
   "cell_type": "code",
   "execution_count": 30,
   "id": "07d888e0",
   "metadata": {},
   "outputs": [],
   "source": [
    "# Handeling the missing values\n"
   ]
  },
  {
   "cell_type": "code",
   "execution_count": 32,
   "id": "4a36b797",
   "metadata": {},
   "outputs": [],
   "source": [
    "# Dependent column values\n"
   ]
  },
  {
   "cell_type": "code",
   "execution_count": 33,
   "id": "d51cecc5",
   "metadata": {},
   "outputs": [],
   "source": [
    "# Dependents columns replaceing value 3+ to 4\n",
    "\n"
   ]
  },
  {
   "cell_type": "code",
   "execution_count": 35,
   "id": "177fa0c8",
   "metadata": {},
   "outputs": [],
   "source": [
    "# drop the loan_id columns\n"
   ]
  },
  {
   "cell_type": "markdown",
   "id": "21a38092",
   "metadata": {},
   "source": [
    "## Data Visualisation"
   ]
  },
  {
   "cell_type": "code",
   "execution_count": 36,
   "id": "897264a4",
   "metadata": {},
   "outputs": [],
   "source": [
    "#visualisation all the data provided\n"
   ]
  },
  {
   "cell_type": "code",
   "execution_count": 37,
   "id": "4ac16c9c",
   "metadata": {},
   "outputs": [],
   "source": [
    "# Education and Loan Status\n"
   ]
  },
  {
   "cell_type": "code",
   "execution_count": 38,
   "id": "2488a3e9",
   "metadata": {},
   "outputs": [],
   "source": [
    "# Gender and Loan status\n"
   ]
  },
  {
   "cell_type": "code",
   "execution_count": 39,
   "id": "2c2d957a",
   "metadata": {},
   "outputs": [],
   "source": [
    "# Marital status and Loan Status\n"
   ]
  },
  {
   "cell_type": "markdown",
   "id": "8d9309a0",
   "metadata": {},
   "source": [
    "### Correlation between Columns"
   ]
  },
  {
   "cell_type": "code",
   "execution_count": 40,
   "id": "0ba289e2",
   "metadata": {},
   "outputs": [],
   "source": [
    "# correlation numerical colmns\n"
   ]
  },
  {
   "cell_type": "markdown",
   "id": "29243940",
   "metadata": {},
   "source": [
    "### Histogram Distribution"
   ]
  },
  {
   "cell_type": "code",
   "execution_count": 41,
   "id": "ff8ce1cd",
   "metadata": {},
   "outputs": [],
   "source": [
    "# Distribution numerical variable using the Histogram \n",
    "\n"
   ]
  },
  {
   "cell_type": "markdown",
   "id": "2d117601",
   "metadata": {},
   "source": [
    "### Box plot"
   ]
  },
  {
   "cell_type": "code",
   "execution_count": 42,
   "id": "c3c05d2f",
   "metadata": {},
   "outputs": [],
   "source": [
    "#Box plot using to show outliers\n"
   ]
  }
 ],
 "metadata": {
  "kernelspec": {
   "display_name": "Python 3 (ipykernel)",
   "language": "python",
   "name": "python3"
  },
  "language_info": {
   "codemirror_mode": {
    "name": "ipython",
    "version": 3
   },
   "file_extension": ".py",
   "mimetype": "text/x-python",
   "name": "python",
   "nbconvert_exporter": "python",
   "pygments_lexer": "ipython3",
   "version": "3.9.13"
  }
 },
 "nbformat": 4,
 "nbformat_minor": 5
}
