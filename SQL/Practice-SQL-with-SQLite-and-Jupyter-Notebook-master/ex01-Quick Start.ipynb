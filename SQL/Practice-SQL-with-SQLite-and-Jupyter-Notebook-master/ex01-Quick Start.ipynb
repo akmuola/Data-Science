{
 "cells": [
  {
   "cell_type": "markdown",
   "metadata": {},
   "source": [
    "# Quick Start\n",
    "\n",
    "This quick start is a complete example to show how to\n",
    "- create a SQLite database; \n",
    "- creat a data table;\n",
    "- insert data into the table;\n",
    "- query data from the table. "
   ]
  },
  {
   "cell_type": "code",
   "execution_count": 18,
   "metadata": {},
   "outputs": [
    {
     "name": "stdout",
     "output_type": "stream",
     "text": [
      "Requirement already satisfied: pandas in c:\\users\\mac\\anaconda3\\lib\\site-packages (1.4.4)\n",
      "Requirement already satisfied: pytz>=2020.1 in c:\\users\\mac\\anaconda3\\lib\\site-packages (from pandas) (2022.1)\n",
      "Requirement already satisfied: python-dateutil>=2.8.1 in c:\\users\\mac\\anaconda3\\lib\\site-packages (from pandas) (2.8.2)\n",
      "Requirement already satisfied: numpy>=1.18.5 in c:\\users\\mac\\anaconda3\\lib\\site-packages (from pandas) (1.21.5)\n",
      "Requirement already satisfied: six>=1.5 in c:\\users\\mac\\anaconda3\\lib\\site-packages (from python-dateutil>=2.8.1->pandas) (1.16.0)\n",
      "Note: you may need to restart the kernel to use updated packages.\n"
     ]
    }
   ],
   "source": [
    "pip install pandas\n"
   ]
  },
  {
   "cell_type": "code",
   "execution_count": 19,
   "metadata": {},
   "outputs": [
    {
     "name": "stdout",
     "output_type": "stream",
     "text": [
      "Requirement already satisfied: pandasql in c:\\users\\mac\\anaconda3\\lib\\site-packages (0.7.3)\n",
      "Requirement already satisfied: sqlalchemy in c:\\users\\mac\\anaconda3\\lib\\site-packages (from pandasql) (1.4.39)\n",
      "Requirement already satisfied: numpy in c:\\users\\mac\\anaconda3\\lib\\site-packages (from pandasql) (1.21.5)\n",
      "Requirement already satisfied: pandas in c:\\users\\mac\\anaconda3\\lib\\site-packages (from pandasql) (1.4.4)\n",
      "Requirement already satisfied: pytz>=2020.1 in c:\\users\\mac\\anaconda3\\lib\\site-packages (from pandas->pandasql) (2022.1)\n",
      "Requirement already satisfied: python-dateutil>=2.8.1 in c:\\users\\mac\\anaconda3\\lib\\site-packages (from pandas->pandasql) (2.8.2)\n",
      "Requirement already satisfied: greenlet!=0.4.17 in c:\\users\\mac\\anaconda3\\lib\\site-packages (from sqlalchemy->pandasql) (1.1.1)\n",
      "Requirement already satisfied: six>=1.5 in c:\\users\\mac\\anaconda3\\lib\\site-packages (from python-dateutil>=2.8.1->pandas->pandasql) (1.16.0)\n",
      "Note: you may need to restart the kernel to use updated packages.\n"
     ]
    }
   ],
   "source": [
    "pip install -U pandasql"
   ]
  },
  {
   "cell_type": "code",
   "execution_count": 20,
   "metadata": {},
   "outputs": [
    {
     "name": "stdout",
     "output_type": "stream",
     "text": [
      "Requirement already satisfied: sqlalchemy in c:\\users\\mac\\anaconda3\\lib\\site-packages (1.4.39)\n",
      "Requirement already satisfied: greenlet!=0.4.17 in c:\\users\\mac\\anaconda3\\lib\\site-packages (from sqlalchemy) (1.1.1)\n",
      "Note: you may need to restart the kernel to use updated packages.\n"
     ]
    }
   ],
   "source": [
    "pip install sqlalchemy"
   ]
  },
  {
   "cell_type": "code",
   "execution_count": 21,
   "metadata": {},
   "outputs": [
    {
     "name": "stdout",
     "output_type": "stream",
     "text": [
      "Requirement already satisfied: ipython-sql in c:\\users\\mac\\anaconda3\\lib\\site-packages (0.4.1)\n",
      "Requirement already satisfied: ipython-genutils>=0.1.0 in c:\\users\\mac\\anaconda3\\lib\\site-packages (from ipython-sql) (0.2.0)\n",
      "Requirement already satisfied: sqlalchemy>=0.6.7 in c:\\users\\mac\\anaconda3\\lib\\site-packages (from ipython-sql) (1.4.39)\n",
      "Requirement already satisfied: sqlparse in c:\\users\\mac\\anaconda3\\lib\\site-packages (from ipython-sql) (0.4.3)\n",
      "Requirement already satisfied: prettytable<1 in c:\\users\\mac\\anaconda3\\lib\\site-packages (from ipython-sql) (0.7.2)\n",
      "Requirement already satisfied: six in c:\\users\\mac\\anaconda3\\lib\\site-packages (from ipython-sql) (1.16.0)\n",
      "Requirement already satisfied: ipython>=1.0 in c:\\users\\mac\\anaconda3\\lib\\site-packages (from ipython-sql) (7.31.1)\n",
      "Requirement already satisfied: matplotlib-inline in c:\\users\\mac\\anaconda3\\lib\\site-packages (from ipython>=1.0->ipython-sql) (0.1.6)\n",
      "Requirement already satisfied: traitlets>=4.2 in c:\\users\\mac\\anaconda3\\lib\\site-packages (from ipython>=1.0->ipython-sql) (5.1.1)\n",
      "Requirement already satisfied: setuptools>=18.5 in c:\\users\\mac\\anaconda3\\lib\\site-packages (from ipython>=1.0->ipython-sql) (63.4.1)\n",
      "Requirement already satisfied: pickleshare in c:\\users\\mac\\anaconda3\\lib\\site-packages (from ipython>=1.0->ipython-sql) (0.7.5)\n",
      "Requirement already satisfied: decorator in c:\\users\\mac\\anaconda3\\lib\\site-packages (from ipython>=1.0->ipython-sql) (5.1.1)\n",
      "Requirement already satisfied: backcall in c:\\users\\mac\\anaconda3\\lib\\site-packages (from ipython>=1.0->ipython-sql) (0.2.0)\n",
      "Requirement already satisfied: colorama in c:\\users\\mac\\anaconda3\\lib\\site-packages (from ipython>=1.0->ipython-sql) (0.4.5)\n",
      "Requirement already satisfied: prompt-toolkit!=3.0.0,!=3.0.1,<3.1.0,>=2.0.0 in c:\\users\\mac\\anaconda3\\lib\\site-packages (from ipython>=1.0->ipython-sql) (3.0.20)\n",
      "Requirement already satisfied: jedi>=0.16 in c:\\users\\mac\\anaconda3\\lib\\site-packages (from ipython>=1.0->ipython-sql) (0.18.1)\n",
      "Requirement already satisfied: pygments in c:\\users\\mac\\anaconda3\\lib\\site-packages (from ipython>=1.0->ipython-sql) (2.11.2)\n",
      "Requirement already satisfied: greenlet!=0.4.17 in c:\\users\\mac\\anaconda3\\lib\\site-packages (from sqlalchemy>=0.6.7->ipython-sql) (1.1.1)\n",
      "Requirement already satisfied: parso<0.9.0,>=0.8.0 in c:\\users\\mac\\anaconda3\\lib\\site-packages (from jedi>=0.16->ipython>=1.0->ipython-sql) (0.8.3)\n",
      "Requirement already satisfied: wcwidth in c:\\users\\mac\\anaconda3\\lib\\site-packages (from prompt-toolkit!=3.0.0,!=3.0.1,<3.1.0,>=2.0.0->ipython>=1.0->ipython-sql) (0.2.5)\n",
      "Note: you may need to restart the kernel to use updated packages.\n"
     ]
    }
   ],
   "source": [
    "pip install ipython-sql"
   ]
  },
  {
   "cell_type": "code",
   "execution_count": 22,
   "metadata": {},
   "outputs": [
    {
     "name": "stdout",
     "output_type": "stream",
     "text": [
      "Requirement already satisfied: pyhive[presto] in c:\\users\\mac\\anaconda3\\lib\\site-packages (0.6.5)\n",
      "Requirement already satisfied: python-dateutil in c:\\users\\mac\\anaconda3\\lib\\site-packages (from pyhive[presto]) (2.8.2)\n",
      "Requirement already satisfied: future in c:\\users\\mac\\anaconda3\\lib\\site-packages (from pyhive[presto]) (0.18.2)\n",
      "Requirement already satisfied: requests>=1.0.0 in c:\\users\\mac\\anaconda3\\lib\\site-packages (from pyhive[presto]) (2.28.1)\n",
      "Requirement already satisfied: certifi>=2017.4.17 in c:\\users\\mac\\anaconda3\\lib\\site-packages (from requests>=1.0.0->pyhive[presto]) (2022.9.14)\n",
      "Requirement already satisfied: urllib3<1.27,>=1.21.1 in c:\\users\\mac\\anaconda3\\lib\\site-packages (from requests>=1.0.0->pyhive[presto]) (1.26.11)\n",
      "Requirement already satisfied: charset-normalizer<3,>=2 in c:\\users\\mac\\anaconda3\\lib\\site-packages (from requests>=1.0.0->pyhive[presto]) (2.0.4)\n",
      "Requirement already satisfied: idna<4,>=2.5 in c:\\users\\mac\\anaconda3\\lib\\site-packages (from requests>=1.0.0->pyhive[presto]) (3.3)\n",
      "Requirement already satisfied: six>=1.5 in c:\\users\\mac\\anaconda3\\lib\\site-packages (from python-dateutil->pyhive[presto]) (1.16.0)\n",
      "Note: you may need to restart the kernel to use updated packages.\n"
     ]
    }
   ],
   "source": [
    "pip install pyhive[presto]"
   ]
  },
  {
   "cell_type": "code",
   "execution_count": 12,
   "metadata": {},
   "outputs": [],
   "source": [
    "%load_ext sql"
   ]
  },
  {
   "cell_type": "markdown",
   "metadata": {},
   "source": [
    "### Create a SQLite Database\n",
    "\n",
    "For practice purposes, it's advisable to create your own database, so that you are free to perform any operations on it. If using the SQLite shell, we can apply the ***open*** command to both create a SQLite database or open it in case it already exists just like:\n",
    "\n",
    "> sqlite> .open testdb\n",
    "\n",
    "Similaryly, we can use ipython-sql to the same thing:"
   ]
  },
  {
   "cell_type": "code",
   "execution_count": 41,
   "metadata": {},
   "outputs": [],
   "source": [
    "%sql sqlite:///data/stdinfo.db3"
   ]
  },
  {
   "cell_type": "markdown",
   "metadata": {},
   "source": [
    "### Create a table\n",
    "\n",
    "***%%sql*** let you use multiple SQL statements inside a single cell. \n",
    "\n",
    "It is now time to create one using a standard SQL command – CREATE TABLE. If the table already existed in the database, an error will pop up. In addition, we set ***PRIMARY KEY*** on USERID to prevent from inserting duplicate writers into the table."
   ]
  },
  {
   "cell_type": "code",
   "execution_count": 43,
   "metadata": {},
   "outputs": [
    {
     "name": "stdout",
     "output_type": "stream",
     "text": [
      "Done.\n"
     ]
    },
    {
     "data": {
      "text/plain": [
       "[]"
      ]
     },
     "execution_count": 43,
     "metadata": {},
     "output_type": "execute_result"
    }
   ],
   "source": [
    "%%sql sqlite://\n",
    "CREATE TABLE students(\n",
    "    FirstName VARCHAR(50) NOT NULL,\n",
    "    LastName VARCHAR(50) NOT NULL,  \n",
    "    USERID int  NOT NULL UNIQUE, \n",
    "    PRIMARY KEY (USERID)\n",
    ");"
   ]
  },
  {
   "cell_type": "markdown",
   "metadata": {},
   "source": [
    "### Add data to the table\n",
    "\n",
    "The table we have just created is empty. Now we insert some sample data inside it. To populate this data in the form of rows, we use the command INSERT."
   ]
  },
  {
   "cell_type": "code",
   "execution_count": 39,
   "metadata": {},
   "outputs": [
    {
     "name": "stdout",
     "output_type": "stream",
     "text": [
      "(sqlite3.IntegrityError) UNIQUE constraint failed: writers.USERID\n",
      "[SQL: INSERT INTO writers VALUES ('William', 'Shakespeare', 1616);]\n",
      "(Background on this error at: https://sqlalche.me/e/14/gkpj)\n"
     ]
    }
   ],
   "source": [
    "%%sql sqlite://\n",
    "INSERT INTO studde VALUES ('William', 'Shakespeare', 1616);\n",
    "INSERT INTO writers VALUES ('Lin', 'Han', 1996);\n",
    "INSERT INTO writers VALUES ('Peter', 'Brecht', 1978);\n",
    "INSERT INTO writers VALUES ('Muideen', 'Akinroye', 1646);\n",
    "INSERT INTO writers VALUES ('Akinfola', 'Afeez', 1896);\n",
    "INSERT INTO writers VALUES ('Peter', 'Paul', 1278);"
   ]
  },
  {
   "cell_type": "markdown",
   "metadata": {},
   "source": [
    "### Write the First Query\n",
    "\n",
    "Let us now turn our attention to writing a simple query to check the results of our previous operations in which we created a table and inserted three rows of data into it. For this, we would use the command called SELECT.\n",
    "\n",
    "we can put the query result into a variable such as the following sqlres."
   ]
  },
  {
   "cell_type": "code",
   "execution_count": 40,
   "metadata": {},
   "outputs": [
    {
     "name": "stdout",
     "output_type": "stream",
     "text": [
      "   sqlite:///data/wale.db3\n",
      " * sqlite:///data/writers.db3\n",
      "Done.\n"
     ]
    },
    {
     "data": {
      "text/html": [
       "<table>\n",
       "    <tr>\n",
       "        <th>FirstName</th>\n",
       "        <th>LastName</th>\n",
       "        <th>USERID</th>\n",
       "    </tr>\n",
       "    <tr>\n",
       "        <td>William</td>\n",
       "        <td>Shakespeare</td>\n",
       "        <td>1616</td>\n",
       "    </tr>\n",
       "    <tr>\n",
       "        <td>Lin</td>\n",
       "        <td>Han</td>\n",
       "        <td>1996</td>\n",
       "    </tr>\n",
       "    <tr>\n",
       "        <td>Peter</td>\n",
       "        <td>Brecht</td>\n",
       "        <td>1978</td>\n",
       "    </tr>\n",
       "</table>"
      ],
      "text/plain": [
       "[('William', 'Shakespeare', 1616),\n",
       " ('Lin', 'Han', 1996),\n",
       " ('Peter', 'Brecht', 1978)]"
      ]
     },
     "execution_count": 40,
     "metadata": {},
     "output_type": "execute_result"
    }
   ],
   "source": [
    "sqlres = %sql SELECT * from writers\n",
    "sqlres"
   ]
  },
  {
   "cell_type": "markdown",
   "metadata": {},
   "source": [
    "You also can select the specific colummns using their names just like:"
   ]
  },
  {
   "cell_type": "code",
   "execution_count": 35,
   "metadata": {},
   "outputs": [
    {
     "name": "stdout",
     "output_type": "stream",
     "text": [
      "   sqlite:///data/wale.db3\n",
      " * sqlite:///data/writers.db3\n",
      "Done.\n"
     ]
    },
    {
     "data": {
      "text/html": [
       "<table>\n",
       "    <tr>\n",
       "        <th>FirstName</th>\n",
       "        <th>LastName</th>\n",
       "    </tr>\n",
       "    <tr>\n",
       "        <td>William</td>\n",
       "        <td>Shakespeare</td>\n",
       "    </tr>\n",
       "    <tr>\n",
       "        <td>Lin</td>\n",
       "        <td>Han</td>\n",
       "    </tr>\n",
       "    <tr>\n",
       "        <td>Peter</td>\n",
       "        <td>Brecht</td>\n",
       "    </tr>\n",
       "</table>"
      ],
      "text/plain": [
       "[('William', 'Shakespeare'), ('Lin', 'Han'), ('Peter', 'Brecht')]"
      ]
     },
     "execution_count": 35,
     "metadata": {},
     "output_type": "execute_result"
    }
   ],
   "source": [
    "sqlres = %sql SELECT FirstName, LastName from writers\n",
    "sqlres"
   ]
  },
  {
   "cell_type": "code",
   "execution_count": null,
   "metadata": {},
   "outputs": [],
   "source": []
  },
  {
   "cell_type": "code",
   "execution_count": null,
   "metadata": {},
   "outputs": [],
   "source": []
  }
 ],
 "metadata": {
  "anaconda-cloud": {},
  "kernelspec": {
   "display_name": "Python 3 (ipykernel)",
   "language": "python",
   "name": "python3"
  },
  "language_info": {
   "codemirror_mode": {
    "name": "ipython",
    "version": 3
   },
   "file_extension": ".py",
   "mimetype": "text/x-python",
   "name": "python",
   "nbconvert_exporter": "python",
   "pygments_lexer": "ipython3",
   "version": "3.9.13"
  }
 },
 "nbformat": 4,
 "nbformat_minor": 2
}
