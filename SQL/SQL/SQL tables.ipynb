{
 "cells": [
  {
   "cell_type": "code",
   "execution_count": 3,
   "id": "7e87f32a",
   "metadata": {},
   "outputs": [],
   "source": [
    "import sqlite3\n",
    "\n",
    "dbase = sqlite3.connect('Akinroye.db') # Open a database File"
   ]
  },
  {
   "cell_type": "code",
   "execution_count": 4,
   "id": "2e6c2b71",
   "metadata": {},
   "outputs": [
    {
     "data": {
      "text/plain": [
       "<sqlite3.Cursor at 0x286991421f0>"
      ]
     },
     "execution_count": 4,
     "metadata": {},
     "output_type": "execute_result"
    }
   ],
   "source": [
    "dbase.execute(''' CREATE TABLE IF NOT EXISTS employee_records(\n",
    "    ID INT PRIMARY KEY NOT NULL,\n",
    "    NAME TEXT NOT NULL,\n",
    "    DIVISION TEXT NOT NULL,\n",
    "    STARS INT NOT NULL) ''')"
   ]
  },
  {
   "cell_type": "code",
   "execution_count": 6,
   "id": "98d7df69",
   "metadata": {},
   "outputs": [
    {
     "ename": "IntegrityError",
     "evalue": "UNIQUE constraint failed: employee_records.ID",
     "output_type": "error",
     "traceback": [
      "\u001b[1;31m---------------------------------------------------------------------------\u001b[0m",
      "\u001b[1;31mIntegrityError\u001b[0m                            Traceback (most recent call last)",
      "\u001b[1;32m~\\AppData\\Local\\Temp\\ipykernel_7460\\306892261.py\u001b[0m in \u001b[0;36m<module>\u001b[1;34m\u001b[0m\n\u001b[1;32m----> 1\u001b[1;33m sql_query = dbase.execute(''' INSERT INTO employee_records(ID,NAME,DIVISION,STARS)\n\u001b[0m\u001b[0;32m      2\u001b[0m         \u001b[0mVALUES\u001b[0m\u001b[1;33m(\u001b[0m\u001b[1;36m5\u001b[0m\u001b[1;33m,\u001b[0m\u001b[1;34m'James'\u001b[0m\u001b[1;33m,\u001b[0m\u001b[1;34m'Maintenance'\u001b[0m\u001b[1;33m,\u001b[0m\u001b[1;36m4\u001b[0m\u001b[1;33m)\u001b[0m\u001b[1;33m\u001b[0m\u001b[1;33m\u001b[0m\u001b[0m\n\u001b[0;32m      3\u001b[0m ''')\n",
      "\u001b[1;31mIntegrityError\u001b[0m: UNIQUE constraint failed: employee_records.ID"
     ]
    }
   ],
   "source": [
    "sql_query = dbase.execute(''' INSERT INTO employee_records(ID,NAME,DIVISION,STARS)\n",
    "        VALUES(5,'James','Maintenance',4)\n",
    "''')\n"
   ]
  },
  {
   "cell_type": "code",
   "execution_count": null,
   "id": "2fb7738f",
   "metadata": {},
   "outputs": [],
   "source": []
  }
 ],
 "metadata": {
  "kernelspec": {
   "display_name": "Python 3 (ipykernel)",
   "language": "python",
   "name": "python3"
  },
  "language_info": {
   "codemirror_mode": {
    "name": "ipython",
    "version": 3
   },
   "file_extension": ".py",
   "mimetype": "text/x-python",
   "name": "python",
   "nbconvert_exporter": "python",
   "pygments_lexer": "ipython3",
   "version": "3.9.13"
  }
 },
 "nbformat": 4,
 "nbformat_minor": 5
}
